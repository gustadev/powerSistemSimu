{
 "cells": [
  {
   "cell_type": "code",
   "execution_count": 1,
   "id": "0497869f",
   "metadata": {},
   "outputs": [],
   "source": [
    "import pandas as pd \n",
    "import pandapower"
   ]
  },
  {
   "cell_type": "code",
   "execution_count": 166,
   "id": "f0aa9c5a",
   "metadata": {},
   "outputs": [],
   "source": [
    "lines = []\n",
    "\n",
    "with open(\"./57_Barras/ieee57cdf.txt\",'+r') as f:\n",
    "    lines=f.readlines()"
   ]
  },
  {
   "cell_type": "code",
   "execution_count": 167,
   "id": "a39921c8",
   "metadata": {},
   "outputs": [],
   "source": [
    "line_bus_size_split = str(lines[1]).split(' ')\n",
    "last_bus_line = int([l.strip() for l in line_bus_size_split if l.strip()][3])+2\n",
    "bars_ = lines[2:last_bus_line]\n",
    "bars = []\n",
    "for b in bars_:\n",
    "    bar = []\n",
    "    bar.append(str(b[0:4]).strip()) # Columns  1- 4   Bus number (I) *\n",
    "    bar.append(str(b[5:17]).strip()) # Columns  7-17   Name (A) (left justify) *\n",
    "    bar.append(str(b[18:20]).strip()) # Columns 19-20   Load flow area number (I) Don't use zero! *\n",
    "    bar.append(str(b[20:23]).strip()) # Columns 21-23   Loss zone number (I)\n",
    "    bar.append(str(b[24:26]).strip()) # Columns 25-26   Type (I) *\n",
    "    bar.append(str(b[27:33]).strip()) # Columns 28-33   Final voltage, p.u. (F) *\n",
    "    bar.append(str(b[33:40]).strip()) # Columns 34-40   Final angle, degrees (F) *\n",
    "    bar.append(str(b[41:49]).strip()) # Columns 41-49   Load MW (F) *\n",
    "    bar.append(str(b[49:59]).strip()) # Columns 50-59   Load MVAR (F) *\n",
    "    bar.append(str(b[59:67]).strip()) # Columns 60-67   Generation MW (F) *\n",
    "    bar.append(str(b[67:75]).strip()) # Columns 68-75   Generation MVAR (F) *\n",
    "    bar.append(str(b[76:83]).strip()) # Columns 77-83   Base KV (F)\n",
    "    bar.append(str(b[84:90]).strip()) # Columns 85-90   Desired volts (pu) (F) (This is desired remote voltage if this bus is controlling another bus.\n",
    "    bar.append(str(b[90:98]).strip()) # Columns 91-98   Maximum MVAR or voltage limit (F)\n",
    "    bar.append(str(b[98:106]).strip()) # Columns 99-106  Minimum MVAR or voltage limit (F)\n",
    "    bar.append(str(b[106:114]).strip()) # Columns 107-114 Shunt conductance G (per unit) (F) *\n",
    "    bar.append(str(b[114:122]).strip()) # Columns 115-122 Shunt susceptance B (per unit) (F) *\n",
    "    bar.append(str(b[123:127]).strip()) # Columns 124-127 Remote controlled bus number\n",
    "    bars.append(bar)\n",
    "\n",
    "\n",
    "bars = pd.DataFrame(bars)\n",
    "bars.columns = ['Bus number','Name','Load flow area number','Loss zone number','Type','Final voltage','Final angle','Load MW','Load MVAR','Generation MW','Generation MVAR','Base KV','Desired volts (pu)','Maximum MVAR','Minimum MVAR','Shunt conductance G','Shunt susceptance B','Remote controlled bus number']"
   ]
  },
  {
   "cell_type": "code",
   "execution_count": null,
   "id": "dfb247fc",
   "metadata": {},
   "outputs": [],
   "source": [
    "bars"
   ]
  },
  {
   "cell_type": "code",
   "execution_count": null,
   "id": "13cfa206",
   "metadata": {},
   "outputs": [],
   "source": [
    "line_lines_size_split =  str(lines[last_bus_line+1]).split(' ')\n",
    "last_line_line = int([l.strip() for l in line_lines_size_split if l.strip()][3])+2\n",
    "\n",
    "lines_ = lines[(last_bus_line+2):(last_bus_line+last_line_line)]\n",
    "\n",
    "line_connects = []\n",
    "for l in lines_:\n",
    "    ln_con = []\n",
    "    ln_con.append(str(l[0:4]).strip()) # Columns  1- 4   Tap bus number (I) *\n",
    "    ln_con.append(str(l[5:9]).strip()) # Columns  6- 9   Z bus number (I) *\n",
    "    ln_con.append(str(l[10:12]).strip()) # Columns 11-12   Load flow area (I)\n",
    "    ln_con.append(str(l[12:15]).strip()) # Columns 13-14   Loss zone (I)\n",
    "    ln_con.append(str(l[16:17]).strip()) # Column  17      Circuit (I) * (Use 1 for single lines)\n",
    "    ln_con.append(str(l[18:19]).strip()) # Column  19      Type (I) *\n",
    "    ln_con.append(str(l[20:29]).strip()) # Columns 20-29   Branch resistance R, per unit (F) *\n",
    "    ln_con.append(str(l[30:40]).strip()) # Columns 30-40   Branch reactance X, per unit (F) * No zero impedance lines\n",
    "    ln_con.append(str(l[41:50]).strip()) # Columns 41-50   Line charging B, per unit (F) * (total line charging, +B)\n",
    "    ln_con.append(str(l[51:55]).strip()) # Columns 51-55   Line MVA rating No 1 (I) Left justify!\n",
    "    ln_con.append(str(l[57:61]).strip()) # Columns 57-61   Line MVA rating No 2 (I) Left justify!\n",
    "    ln_con.append(str(l[63:67]).strip()) # Columns 63-67   Line MVA rating No 3 (I) Left justify!\n",
    "    ln_con.append(str(l[69:72]).strip()) # Columns 69-72   Control bus number\n",
    "    ln_con.append(str(l[73]).strip()) # Column  74      Side (I)\n",
    "    ln_con.append(str(l[76:82]).strip()) # Columns 77-82   Transformer final turns ratio (F)\n",
    "    ln_con.append(str(l[84:89]).strip()) # Columns 84-90   Transformer (phase shifter) final angle (F)\n",
    "    ln_con.append(str(l[90:97]).strip()) # Columns 91-97   Minimum tap or phase shift (F)\n",
    "    ln_con.append(str(l[97:104]).strip()) # Columns 98-104  Maximum tap or phase shift (F)\n",
    "\n",
    "    ln_con.append(str(l[105:111]).strip()) # Columns 106-111 Step size (F)\n",
    "    ln_con.append(str(l[112:117]).strip()) # Columns 113-119 Minimum voltage, MVAR or MW limit (F)\n",
    "    ln_con.append(str(l[118:126]).strip()) # Columns 120-126 Maximum voltage, MVAR or MW limit (F)\n",
    "\n",
    "    \n",
    "    line_connects.append(ln_con)\n",
    "    \n",
    "    \n",
    "    # bars.append(bar)\n",
    "\n",
    "\n",
    "line_connects = pd.DataFrame(line_connects)\n",
    "line_connects.columns = ['Tap bus number','Z bus number','Load flow area','Loss zone','Circuit','Type','Branch resistance R','Branch reactance X',\n",
    "                'Line charging B','Line MVA rating No 1','Line MVA rating No 2','Line MVA rating No 3','Control bus number',\n",
    "                'Side','Transformer final turns ratio','Transformer (phase shifter) final angle','Minimum tap or phase shift',\n",
    "                'Maximum tap or phase shift','Step size','Minimum voltage','Maximum voltage']\n",
    "line_connects"
   ]
  },
  {
   "cell_type": "code",
   "execution_count": 35,
   "id": "a2c6a0f1",
   "metadata": {},
   "outputs": [
    {
     "data": {
      "text/html": [
       "<div>\n",
       "<style scoped>\n",
       "    .dataframe tbody tr th:only-of-type {\n",
       "        vertical-align: middle;\n",
       "    }\n",
       "\n",
       "    .dataframe tbody tr th {\n",
       "        vertical-align: top;\n",
       "    }\n",
       "\n",
       "    .dataframe thead th {\n",
       "        text-align: right;\n",
       "    }\n",
       "</style>\n",
       "<table border=\"1\" class=\"dataframe\">\n",
       "  <thead>\n",
       "    <tr style=\"text-align: right;\">\n",
       "      <th></th>\n",
       "      <th>name</th>\n",
       "      <th>vn_kv</th>\n",
       "      <th>type</th>\n",
       "      <th>zone</th>\n",
       "      <th>in_service</th>\n",
       "      <th>max_vm_pu</th>\n",
       "      <th>min_vm_pu</th>\n",
       "      <th>geo</th>\n",
       "    </tr>\n",
       "  </thead>\n",
       "  <tbody>\n",
       "    <tr>\n",
       "      <th>43</th>\n",
       "      <td>44</td>\n",
       "      <td>138.0</td>\n",
       "      <td>b</td>\n",
       "      <td>1.0</td>\n",
       "      <td>True</td>\n",
       "      <td>1.06</td>\n",
       "      <td>0.94</td>\n",
       "      <td>{\"coordinates\": [3.1404211966, -1.1228580051],...</td>\n",
       "    </tr>\n",
       "  </tbody>\n",
       "</table>\n",
       "</div>"
      ],
      "text/plain": [
       "   name  vn_kv  ... min_vm_pu                                                geo\n",
       "43   44  138.0  ...      0.94  {\"coordinates\": [3.1404211966, -1.1228580051],...\n",
       "\n",
       "[1 rows x 8 columns]"
      ]
     },
     "execution_count": 35,
     "metadata": {},
     "output_type": "execute_result"
    }
   ],
   "source": [
    "pp57 = pandapower.networks.case57()\n",
    "pp57 = pp57['bus']\n",
    "pp57[pp57['name']==44]"
   ]
  }
 ],
 "metadata": {
  "kernelspec": {
   "display_name": "base",
   "language": "python",
   "name": "python3"
  },
  "language_info": {
   "codemirror_mode": {
    "name": "ipython",
    "version": 3
   },
   "file_extension": ".py",
   "mimetype": "text/x-python",
   "name": "python",
   "nbconvert_exporter": "python",
   "pygments_lexer": "ipython3",
   "version": "3.12.3"
  }
 },
 "nbformat": 4,
 "nbformat_minor": 5
}
